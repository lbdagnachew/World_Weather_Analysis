{
 "cells": [
  {
   "cell_type": "code",
   "execution_count": 2,
   "id": "e8a1642e",
   "metadata": {},
   "outputs": [],
   "source": [
    "# Import the random module.\n",
    "import random "
   ]
  },
  {
   "cell_type": "code",
   "execution_count": null,
   "id": "925cc4b8",
   "metadata": {},
   "outputs": [],
   "source": [
    "random."
   ]
  },
  {
   "cell_type": "code",
   "execution_count": 3,
   "id": "dfd218f1",
   "metadata": {},
   "outputs": [],
   "source": [
    "# Import the NumPy module.\n",
    "import numpy as np"
   ]
  },
  {
   "cell_type": "code",
   "execution_count": 4,
   "id": "38a2e785",
   "metadata": {},
   "outputs": [
    {
     "data": {
      "text/plain": [
       "74.30633374600933"
      ]
     },
     "execution_count": 4,
     "metadata": {},
     "output_type": "execute_result"
    }
   ],
   "source": [
    "np.random.uniform(-90.000, 90.000)"
   ]
  },
  {
   "cell_type": "code",
   "execution_count": 5,
   "id": "04bdef29",
   "metadata": {},
   "outputs": [
    {
     "data": {
      "text/plain": [
       "array([ 83.46676112,  17.52099495,   7.95790094,  55.00826661,\n",
       "       -33.03253483, -17.81323731,  67.04264646, -49.26852132,\n",
       "       -85.49627314, -26.64304245,  36.47180067,  26.24768163,\n",
       "        14.31256524,  79.04968349, -82.02573623,  -7.59566668,\n",
       "        52.62639989, -15.99841071,  20.00709006,  75.52875424,\n",
       "       -83.31221114,  25.68528813,  -1.70957429, -20.34499182,\n",
       "        72.00724248,  44.52088313,  29.36776598, -36.48732511,\n",
       "         2.98943821,   1.7184352 ,  47.37348286, -75.5877138 ,\n",
       "        -9.02107093, -60.93064158, -69.23164515, -33.36268529,\n",
       "       -13.1440364 ,  28.33421241, -16.52112365,  -1.00877685,\n",
       "        -4.30344141, -60.08783513,  36.06659192, -79.29870486,\n",
       "        41.51191835,  84.93586592,  28.32946921,  61.67659339,\n",
       "       -13.01047431,  29.72534665])"
      ]
     },
     "execution_count": 5,
     "metadata": {},
     "output_type": "execute_result"
    }
   ],
   "source": [
    "np.random.uniform(-90.000, 90.000, size=50)"
   ]
  },
  {
   "cell_type": "code",
   "execution_count": 6,
   "id": "5e39e613",
   "metadata": {},
   "outputs": [],
   "source": [
    "# Import timeit.\n",
    "import timeit"
   ]
  },
  {
   "cell_type": "code",
   "execution_count": 7,
   "id": "a5c0731d",
   "metadata": {},
   "outputs": [
    {
     "name": "stdout",
     "output_type": "stream",
     "text": [
      "15.9 µs ± 345 ns per loop (mean ± std. dev. of 7 runs, 100000 loops each)\n"
     ]
    }
   ],
   "source": [
    "%timeit np.random.uniform(-90.000, 90.000, size=1500)"
   ]
  },
  {
   "cell_type": "code",
   "execution_count": 8,
   "id": "8f0624a1",
   "metadata": {},
   "outputs": [
    {
     "name": "stdout",
     "output_type": "stream",
     "text": [
      "2.45 ms ± 11 µs per loop (mean ± std. dev. of 7 runs, 100 loops each)\n"
     ]
    }
   ],
   "source": [
    "def latitudes(size):\n",
    "    latitudes = []\n",
    "    x = 0\n",
    "    while x < (size):\n",
    "        random_lat = random.randint(-90, 90) + random.random()\n",
    "        latitudes.append(random_lat)\n",
    "        x += 1\n",
    "    return latitudes\n",
    "# Call the function with 1500.\n",
    "%timeit latitudes(1500)"
   ]
  },
  {
   "cell_type": "code",
   "execution_count": null,
   "id": "79bc895e",
   "metadata": {},
   "outputs": [],
   "source": []
  }
 ],
 "metadata": {
  "kernelspec": {
   "display_name": "PythonData",
   "language": "python",
   "name": "pythondata"
  },
  "language_info": {
   "codemirror_mode": {
    "name": "ipython",
    "version": 3
   },
   "file_extension": ".py",
   "mimetype": "text/x-python",
   "name": "python",
   "nbconvert_exporter": "python",
   "pygments_lexer": "ipython3",
   "version": "3.7.10"
  }
 },
 "nbformat": 4,
 "nbformat_minor": 5
}
