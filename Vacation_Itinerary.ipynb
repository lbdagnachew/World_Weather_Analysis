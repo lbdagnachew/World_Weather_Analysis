{
 "cells": [
  {
   "cell_type": "code",
   "execution_count": 1,
   "id": "5e46c463",
   "metadata": {},
   "outputs": [],
   "source": [
    "# Dependencies and Setup\n",
    "import pandas as pd\n",
    "import requests\n",
    "import gmaps\n",
    "\n",
    "# Import API key\n",
    "from config import g_key\n",
    "\n",
    "# Configure gmaps\n",
    "gmaps.configure(api_key=g_key)"
   ]
  },
  {
   "cell_type": "code",
   "execution_count": 2,
   "id": "0b97e9ed",
   "metadata": {},
   "outputs": [
    {
     "data": {
      "text/html": [
       "<div>\n",
       "<style scoped>\n",
       "    .dataframe tbody tr th:only-of-type {\n",
       "        vertical-align: middle;\n",
       "    }\n",
       "\n",
       "    .dataframe tbody tr th {\n",
       "        vertical-align: top;\n",
       "    }\n",
       "\n",
       "    .dataframe thead th {\n",
       "        text-align: right;\n",
       "    }\n",
       "</style>\n",
       "<table border=\"1\" class=\"dataframe\">\n",
       "  <thead>\n",
       "    <tr style=\"text-align: right;\">\n",
       "      <th></th>\n",
       "      <th>City_ID</th>\n",
       "      <th>City</th>\n",
       "      <th>Country</th>\n",
       "      <th>Max Temp</th>\n",
       "      <th>Current Description</th>\n",
       "      <th>Lat</th>\n",
       "      <th>Lng</th>\n",
       "      <th>Hotel Name</th>\n",
       "    </tr>\n",
       "  </thead>\n",
       "  <tbody>\n",
       "    <tr>\n",
       "      <th>0</th>\n",
       "      <td>0</td>\n",
       "      <td>Puerto Colombia</td>\n",
       "      <td>CO</td>\n",
       "      <td>80.69</td>\n",
       "      <td>overcast clouds</td>\n",
       "      <td>10.9878</td>\n",
       "      <td>-74.9547</td>\n",
       "      <td>Hotel El Emigrante</td>\n",
       "    </tr>\n",
       "    <tr>\n",
       "      <th>1</th>\n",
       "      <td>2</td>\n",
       "      <td>Atuona</td>\n",
       "      <td>PF</td>\n",
       "      <td>77.90</td>\n",
       "      <td>clear sky</td>\n",
       "      <td>-9.8000</td>\n",
       "      <td>-139.0333</td>\n",
       "      <td>Villa Enata</td>\n",
       "    </tr>\n",
       "    <tr>\n",
       "      <th>2</th>\n",
       "      <td>3</td>\n",
       "      <td>Aksu</td>\n",
       "      <td>CN</td>\n",
       "      <td>82.87</td>\n",
       "      <td>broken clouds</td>\n",
       "      <td>41.1231</td>\n",
       "      <td>80.2644</td>\n",
       "      <td>Pudong Holiday Hotel</td>\n",
       "    </tr>\n",
       "    <tr>\n",
       "      <th>3</th>\n",
       "      <td>8</td>\n",
       "      <td>Hukuntsi</td>\n",
       "      <td>BW</td>\n",
       "      <td>76.23</td>\n",
       "      <td>scattered clouds</td>\n",
       "      <td>-24.0000</td>\n",
       "      <td>21.7500</td>\n",
       "      <td>Entabeni Hotel</td>\n",
       "    </tr>\n",
       "    <tr>\n",
       "      <th>4</th>\n",
       "      <td>11</td>\n",
       "      <td>Kavieng</td>\n",
       "      <td>PG</td>\n",
       "      <td>82.00</td>\n",
       "      <td>overcast clouds</td>\n",
       "      <td>-2.5744</td>\n",
       "      <td>150.7967</td>\n",
       "      <td>Nusa Island Retreat</td>\n",
       "    </tr>\n",
       "  </tbody>\n",
       "</table>\n",
       "</div>"
      ],
      "text/plain": [
       "   City_ID             City Country  Max Temp Current Description      Lat  \\\n",
       "0        0  Puerto Colombia      CO     80.69     overcast clouds  10.9878   \n",
       "1        2           Atuona      PF     77.90           clear sky  -9.8000   \n",
       "2        3             Aksu      CN     82.87       broken clouds  41.1231   \n",
       "3        8         Hukuntsi      BW     76.23    scattered clouds -24.0000   \n",
       "4       11          Kavieng      PG     82.00     overcast clouds  -2.5744   \n",
       "\n",
       "        Lng            Hotel Name  \n",
       "0  -74.9547    Hotel El Emigrante  \n",
       "1 -139.0333           Villa Enata  \n",
       "2   80.2644  Pudong Holiday Hotel  \n",
       "3   21.7500        Entabeni Hotel  \n",
       "4  150.7967   Nusa Island Retreat  "
      ]
     },
     "execution_count": 2,
     "metadata": {},
     "output_type": "execute_result"
    }
   ],
   "source": [
    "# 1. Read the WeatherPy_vacation.csv into a DataFrame.\n",
    "vacation_df = pd.read_csv(\"WeatherPy_vacation.csv\")\n",
    "vacation_df.head()\n"
   ]
  },
  {
   "cell_type": "code",
   "execution_count": 22,
   "id": "61c49a9d",
   "metadata": {},
   "outputs": [],
   "source": [
    "# 2. Using the template add the city name, the country code, the weather description and maximum temperature for the city.\n",
    "info_box_template = \"\"\"\n",
    "<dl>\n",
    "<dt>Hotel Name</dt><dd>{Hotel Name}</dd>\n",
    "<dt>City</dt><dd>{City}</dd>\n",
    "<dt>Country</dt><dd>{Country}</dd>\n",
    "<dt>Weather Description</dt><dd>{Current Description}</dd>\n",
    "<dt>Max Temp</dt><dd>{Max Temp} °F</dd>\n",
    "</dl>\n",
    "\"\"\"\n",
    "\n",
    "# 3a. Get the data from each row and add it to the formatting template and store the data in a list.\n",
    "hotel_info = [info_box_template.format(**row) for index, row in vacation_df.iterrows()]\n",
    "\n",
    "# 3b. Get the latitude and longitude from each row and store in a new DataFrame.\n",
    "locations = vacation_df[[\"Lat\", \"Lng\"]]"
   ]
  },
  {
   "cell_type": "code",
   "execution_count": 23,
   "id": "b7043229",
   "metadata": {},
   "outputs": [
    {
     "data": {
      "application/vnd.jupyter.widget-view+json": {
       "model_id": "26ef8ddde45543c5a3c9c52750267887",
       "version_major": 2,
       "version_minor": 0
      },
      "text/plain": [
       "Figure(layout=FigureLayout(height='420px'))"
      ]
     },
     "metadata": {},
     "output_type": "display_data"
    }
   ],
   "source": [
    "# 4a. Add a marker layer for each city to the map.\n",
    "locations = vacation_df[[\"Lat\", \"Lng\"]]\n",
    "max_temp = vacation_df[\"Max Temp\"]\n",
    "fig = gmaps.figure(center=(30.0, 31.0), zoom_level=1.5)\n",
    "heat_layer = gmaps.heatmap_layer(locations, weights=max_temp,dissipating=False,\n",
    "             max_intensity=300, point_radius=4)\n",
    "marker_layer = gmaps.marker_layer(locations, info_box_content=vacation_info)\n",
    "fig.add_layer(heat_layer)\n",
    "fig.add_layer(marker_layer)\n",
    "# 4b. Display the figure\n",
    "fig"
   ]
  },
  {
   "cell_type": "code",
   "execution_count": 24,
   "id": "36f17169",
   "metadata": {},
   "outputs": [],
   "source": [
    "#From the map above pick 4 cities and create a vacation itinerary route to travel between the four cities. \n",
    "# 5. Create DataFrames for each city by filtering the 'vacation_df' using the loc method. \n",
    "# Hint: The starting and ending city should be the same city.\n",
    "\n",
    "vacation_start = vacation_df.loc[(vacation_df['City']=='Alexandria')\n",
    "                                & (vacation_df['Hotel Name']=='Royal Crown Hotel')]\n",
    "vacation_end = vacation_df.loc[(vacation_df['City']=='Alexandria')\n",
    "                              & (vacation_df['Hotel Name']=='Royal Crown Hotel')]\n",
    "vacation_stop1 = vacation_df.loc[(vacation_df['City']=='Saint-Georges')\n",
    "                              & (vacation_df['Hotel Name']=='Radisson Grenada Beach Resort')]\n",
    "vacation_stop2 = vacation_df.loc[(vacation_df['City']=='Tura')\n",
    "                                & (vacation_df['Hotel Name']=='Hotel RIKMAN Continental')] \n",
    "vacation_stop3 = vacation_df.loc[(vacation_df['City']=='Hithadhoo')\n",
    "                                & (vacation_df['Hotel Name']=='Scoop Guest House')] "
   ]
  },
  {
   "cell_type": "code",
   "execution_count": 25,
   "id": "78d13ede",
   "metadata": {},
   "outputs": [
    {
     "data": {
      "text/plain": [
       "(array([[31.2156, 29.9553]]),\n",
       " array([[ 12.0564, -61.7485]]),\n",
       " array([[25.5198, 90.2201]]),\n",
       " array([[-0.6   , 73.0833]]))"
      ]
     },
     "execution_count": 25,
     "metadata": {},
     "output_type": "execute_result"
    }
   ],
   "source": [
    "# 6. Get the latitude-longitude pairs as tuples from each city DataFrame using the to_numpy function and list indexing.\n",
    "start = pd.DataFrame(vacation_start[[\"Lat\", \"Lng\"]]).to_numpy()\n",
    "end = pd.DataFrame(vacation_end[[\"Lat\", \"Lng\"]]).to_numpy()\n",
    "stop1 = pd.DataFrame(vacation_stop1[[\"Lat\", \"Lng\"]]).to_numpy()\n",
    "stop2 = pd.DataFrame(vacation_stop2[[\"Lat\", \"Lng\"]]).to_numpy()\n",
    "stop3 = pd.DataFrame(vacation_stop3[[\"Lat\", \"Lng\"]]).to_numpy()\n",
    "start, stop1, stop2, stop3"
   ]
  },
  {
   "cell_type": "code",
   "execution_count": 26,
   "id": "6a569f08",
   "metadata": {},
   "outputs": [],
   "source": [
    "# add the latitude/longitude\n",
    "start=(31.2156, 29.9553)\n",
    "end=(31.2156, 29.9553)\n",
    "stop1=(12.0564, -61.7485)\n",
    "stop2=(25.5198, 90.2201)\n",
    "stop3=(-0.6, 73.0833)"
   ]
  },
  {
   "cell_type": "code",
   "execution_count": 27,
   "id": "55e26ee8",
   "metadata": {},
   "outputs": [
    {
     "data": {
      "application/vnd.jupyter.widget-view+json": {
       "model_id": "1d2cdfe269714a248ab0e760d8ba2236",
       "version_major": 2,
       "version_minor": 0
      },
      "text/plain": [
       "Figure(layout=FigureLayout(height='420px'))"
      ]
     },
     "metadata": {},
     "output_type": "display_data"
    }
   ],
   "source": [
    "# 7. Create a direction layer map using the start and end latitude-longitude pairs,\n",
    "# and stop1, stop2, and stop3 as the waypoints. The travel_mode should be \"DRIVING\", \"BICYCLING\", or \"WALKING\".\n",
    "fig = gmaps.figure()\n",
    "itinerary_trip_plan = gmaps.directions_layer(start,end, \n",
    "                                             waypoints=[stop1,stop2,stop3],\n",
    "                                             travel_mode=\"DRIVING\")\n",
    "fig.add_layer(itinerary_trip_plan)\n",
    "fig"
   ]
  },
  {
   "cell_type": "code",
   "execution_count": 28,
   "id": "ab8d64ea",
   "metadata": {},
   "outputs": [
    {
     "data": {
      "text/html": [
       "<div>\n",
       "<style scoped>\n",
       "    .dataframe tbody tr th:only-of-type {\n",
       "        vertical-align: middle;\n",
       "    }\n",
       "\n",
       "    .dataframe tbody tr th {\n",
       "        vertical-align: top;\n",
       "    }\n",
       "\n",
       "    .dataframe thead th {\n",
       "        text-align: right;\n",
       "    }\n",
       "</style>\n",
       "<table border=\"1\" class=\"dataframe\">\n",
       "  <thead>\n",
       "    <tr style=\"text-align: right;\">\n",
       "      <th></th>\n",
       "      <th>City_ID</th>\n",
       "      <th>City</th>\n",
       "      <th>Country</th>\n",
       "      <th>Max Temp</th>\n",
       "      <th>Current Description</th>\n",
       "      <th>Lat</th>\n",
       "      <th>Lng</th>\n",
       "      <th>Hotel Name</th>\n",
       "    </tr>\n",
       "  </thead>\n",
       "  <tbody>\n",
       "    <tr>\n",
       "      <th>0</th>\n",
       "      <td>197</td>\n",
       "      <td>Alexandria</td>\n",
       "      <td>EG</td>\n",
       "      <td>75.16</td>\n",
       "      <td>scattered clouds</td>\n",
       "      <td>31.2156</td>\n",
       "      <td>29.9553</td>\n",
       "      <td>Royal Crown Hotel</td>\n",
       "    </tr>\n",
       "    <tr>\n",
       "      <th>1</th>\n",
       "      <td>498</td>\n",
       "      <td>Saint-Georges</td>\n",
       "      <td>GD</td>\n",
       "      <td>82.08</td>\n",
       "      <td>scattered clouds</td>\n",
       "      <td>12.0564</td>\n",
       "      <td>-61.7485</td>\n",
       "      <td>Radisson Grenada Beach Resort</td>\n",
       "    </tr>\n",
       "    <tr>\n",
       "      <th>2</th>\n",
       "      <td>624</td>\n",
       "      <td>Tura</td>\n",
       "      <td>IN</td>\n",
       "      <td>76.24</td>\n",
       "      <td>broken clouds</td>\n",
       "      <td>25.5198</td>\n",
       "      <td>90.2201</td>\n",
       "      <td>Hotel RIKMAN Continental</td>\n",
       "    </tr>\n",
       "    <tr>\n",
       "      <th>3</th>\n",
       "      <td>97</td>\n",
       "      <td>Hithadhoo</td>\n",
       "      <td>MV</td>\n",
       "      <td>83.50</td>\n",
       "      <td>broken clouds</td>\n",
       "      <td>-0.6000</td>\n",
       "      <td>73.0833</td>\n",
       "      <td>Scoop Guest House</td>\n",
       "    </tr>\n",
       "  </tbody>\n",
       "</table>\n",
       "</div>"
      ],
      "text/plain": [
       "   City_ID           City Country  Max Temp Current Description      Lat  \\\n",
       "0      197     Alexandria      EG     75.16    scattered clouds  31.2156   \n",
       "1      498  Saint-Georges      GD     82.08    scattered clouds  12.0564   \n",
       "2      624           Tura      IN     76.24       broken clouds  25.5198   \n",
       "3       97      Hithadhoo      MV     83.50       broken clouds  -0.6000   \n",
       "\n",
       "       Lng                     Hotel Name  \n",
       "0  29.9553              Royal Crown Hotel  \n",
       "1 -61.7485  Radisson Grenada Beach Resort  \n",
       "2  90.2201       Hotel RIKMAN Continental  \n",
       "3  73.0833              Scoop Guest House  "
      ]
     },
     "execution_count": 28,
     "metadata": {},
     "output_type": "execute_result"
    }
   ],
   "source": [
    "# 8. To create a marker layer map between the four cities.\n",
    "#  Combine the four city DataFrames into one DataFrame using the concat() function.\n",
    "itinerary_df = pd.concat([vacation_start, vacation_stop1, vacation_stop2, vacation_stop3],ignore_index=True)\n",
    "itinerary_df"
   ]
  },
  {
   "cell_type": "code",
   "execution_count": 37,
   "id": "0140f2e0",
   "metadata": {},
   "outputs": [],
   "source": [
    "# 9 Using the template add city name, the country code, the weather description and maximum temperature for the city. \n",
    "info_box_template = \"\"\"\n",
    "<dt>Hotel Name</dt><dd>{Hotel Name}</dd>\n",
    "<dt>City</dt><dd>{City}</dd>\n",
    "<dt>Country</dt><dd>{Country}</dd>\n",
    "<dt>Weather Description</dt><dd>{Current Description}</dd>\n",
    "<dt>Max Temp</dt><dd>{Max Temp} °F</dd>\n",
    "</dl>\n",
    "\"\"\"\n",
    "\n",
    "# 10a Get the data from each row and add it to the formatting template and store the data in a list.\n",
    "hotel_info = [info_box_template.format(**row) for index, row in itinerary_df.iterrows()]\n",
    "\n",
    "# 10b. Get the latitude and longitude from each row and store in a new DataFrame.\n",
    "itinerary_locations = itinerary_df[[\"Lat\", \"Lng\"]]"
   ]
  },
  {
   "cell_type": "code",
   "execution_count": 39,
   "id": "8a98c0dd",
   "metadata": {},
   "outputs": [],
   "source": [
    "# 11a. Add a marker layer for each city to the map.\n",
    "itinerary_locations = itinerary_df[[\"Lat\", \"Lng\"]]\n",
    "fig = gmaps.figure(center=(31.0, 29.0), zoom_level=5)\n",
    "marker_layer = gmaps.marker_layer(itinerary_locations, info_box_content=hotel_info)\n",
    "fig.add_layer(marker_layer)"
   ]
  },
  {
   "cell_type": "code",
   "execution_count": 40,
   "id": "1d9bb567",
   "metadata": {},
   "outputs": [
    {
     "data": {
      "application/vnd.jupyter.widget-view+json": {
       "model_id": "3443a3a1cce64eabbcac0971844e8353",
       "version_major": 2,
       "version_minor": 0
      },
      "text/plain": [
       "Figure(layout=FigureLayout(height='420px'))"
      ]
     },
     "metadata": {},
     "output_type": "display_data"
    }
   ],
   "source": [
    "# 11b. Display the figure\n",
    "fig"
   ]
  },
  {
   "cell_type": "code",
   "execution_count": null,
   "id": "e081e635",
   "metadata": {},
   "outputs": [],
   "source": []
  }
 ],
 "metadata": {
  "kernelspec": {
   "display_name": "PythonData",
   "language": "python",
   "name": "pythondata"
  },
  "language_info": {
   "codemirror_mode": {
    "name": "ipython",
    "version": 3
   },
   "file_extension": ".py",
   "mimetype": "text/x-python",
   "name": "python",
   "nbconvert_exporter": "python",
   "pygments_lexer": "ipython3",
   "version": "3.7.10"
  }
 },
 "nbformat": 4,
 "nbformat_minor": 5
}
